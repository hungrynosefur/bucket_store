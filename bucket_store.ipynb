{
 "cells": [
  {
   "cell_type": "markdown",
   "id": "29e735e5-086e-4ef3-af26-859fca232428",
   "metadata": {},
   "source": [
    "## 1.회원정보 생성 스크립트"
   ]
  },
  {
   "cell_type": "code",
   "execution_count": 1,
   "id": "0eb6afdf-0a49-4c67-8dac-4840e46cc978",
   "metadata": {},
   "outputs": [],
   "source": [
    "import json\n",
    "import random\n",
    "import string"
   ]
  },
  {
   "cell_type": "code",
   "execution_count": 2,
   "id": "5db1a777-f2f5-4d42-adf0-ac351d789db6",
   "metadata": {},
   "outputs": [],
   "source": [
    "activity_logs = []\n",
    "with open('sample_user_log.json', 'r') as file:\n",
    "    for line in file:\n",
    "        activity_logs.append(json.loads(line))"
   ]
  },
  {
   "cell_type": "code",
   "execution_count": 3,
   "id": "ca49baa5-9cf8-4b2f-85b6-a844a46f7abd",
   "metadata": {},
   "outputs": [],
   "source": [
    "# 활동 로그에서 회원 ID 추출\n",
    "user_ids = {log['user_id'] for log in activity_logs}"
   ]
  },
  {
   "cell_type": "code",
   "execution_count": 4,
   "id": "fcc42114-ddbd-4a5a-8dde-17f27bd2dc80",
   "metadata": {},
   "outputs": [],
   "source": [
    "# 임의의 회원 정보 생성\n",
    "users = []\n",
    "for user_id in user_ids:\n",
    "    user = {\n",
    "        'user_id': user_id,\n",
    "        'username': ''.join(random.choices(string.ascii_letters, k=8)),\n",
    "        'password': ''.join(random.choices(string.ascii_letters + string.digits, k=12)),\n",
    "        'email': f\"{user_id}@example.com\",\n",
    "        'phone': ''.join(random.choices(string.digits, k=10)),\n",
    "        'address': ''.join(random.choices(string.ascii_letters + string.digits + ' ', k=20))\n",
    "    }\n",
    "    users.append(user)"
   ]
  },
  {
   "cell_type": "code",
   "execution_count": 5,
   "id": "2b3a991e-66eb-4a7b-af4e-d23afbdae42f",
   "metadata": {},
   "outputs": [
    {
     "name": "stdout",
     "output_type": "stream",
     "text": [
      "{'user_id': 'user_61', 'username': 'tqFdFytw', 'password': 'T5FmHoCrMJjD', 'email': 'user_61@example.com', 'phone': '2120915640', 'address': 'dJaAQ NQHIaoBbZGZUON'}\n",
      "{'user_id': 'user_83', 'username': 'uRhaBsET', 'password': 'CyfLoo3VH6fG', 'email': 'user_83@example.com', 'phone': '3596760060', 'address': 'Sf5s cGLcPxPwdb9WosP'}\n",
      "{'user_id': 'user_99', 'username': 'IAoMHzTc', 'password': 'srnVl1BNSzrZ', 'email': 'user_99@example.com', 'phone': '1825252163', 'address': '6c7Ei8yqDjYad5A5GGbL'}\n",
      "{'user_id': 'user_67', 'username': 'pYGIuUwL', 'password': 'tV3f1wpybiik', 'email': 'user_67@example.com', 'phone': '8847341520', 'address': 'xaMZrjpr0 WB4buoMglZ'}\n",
      "{'user_id': 'user_74', 'username': 'tvVSywxe', 'password': 'wO1CMQOKmWNR', 'email': 'user_74@example.com', 'phone': '0692366842', 'address': 'NvBb9Gj4aag1pG2QGSbh'}\n"
     ]
    }
   ],
   "source": [
    "#결과 확인\n",
    "for user in users[:5]:\n",
    "    print(user)"
   ]
  },
  {
   "cell_type": "markdown",
   "id": "9ef11bd3-f09b-49cb-8686-e46600a9dcf9",
   "metadata": {},
   "source": [
    "## 2.상품정보 100개 랜덤 생성"
   ]
  },
  {
   "cell_type": "code",
   "execution_count": 31,
   "id": "3aafca40-af72-4ba0-91d9-0cea17da9bb2",
   "metadata": {},
   "outputs": [
    {
     "name": "stdout",
     "output_type": "stream",
     "text": [
      "{'product_code': 'PROD9709-RED', 'product_name': 'reMZXnTwij', 'category': 'Accessories', 'color': 'Red', 'brand_id': 'A', 'product_option': 'Model A', 'size': 'L', 'price': 354.7369661566269}\n",
      "{'product_code': 'PROD5086-BLK', 'product_name': 'NxnsbcLWpt', 'category': 'Pants', 'color': 'White', 'brand_id': 'G', 'product_option': 'Model B', 'size': 'S', 'price': 235.6283672007878}\n",
      "{'product_code': 'PROD9197-BLK', 'product_name': 'pzPMKsbFTX', 'category': 'Top', 'color': 'White', 'brand_id': 'Z', 'product_option': 'Model C', 'size': 'L', 'price': 237.83733530096518}\n",
      "{'product_code': 'PROD1926-BLK', 'product_name': 'pUoheIHVrg', 'category': 'Accessories', 'color': 'White', 'brand_id': 'W', 'product_option': 'Model C', 'size': 'L', 'price': 182.35849195192236}\n",
      "{'product_code': 'PROD1152-BLK', 'product_name': 'ZfLWHEebTo', 'category': 'Accessories', 'color': 'White', 'brand_id': 'H', 'product_option': 'Model A', 'size': 'L', 'price': 485.3568134025833}\n",
      "Brand: A, Shipping Fee: 16.99014831614823\n",
      "Brand: B, Shipping Fee: 16.561799123262663\n",
      "Brand: C, Shipping Fee: 17.27991729827285\n",
      "Brand: D, Shipping Fee: 11.07744801643932\n",
      "Brand: E, Shipping Fee: 11.797428665088225\n",
      "Brand: F, Shipping Fee: 6.433484672262323\n",
      "Brand: G, Shipping Fee: 13.504392334013591\n",
      "Brand: H, Shipping Fee: 14.259855295274269\n",
      "Brand: I, Shipping Fee: 10.256316050784056\n",
      "Brand: J, Shipping Fee: 12.520366279862184\n",
      "Brand: K, Shipping Fee: 8.100307609079564\n",
      "Brand: L, Shipping Fee: 12.095611497537728\n",
      "Brand: M, Shipping Fee: 18.6171837886884\n",
      "Brand: N, Shipping Fee: 10.136633658089297\n",
      "Brand: O, Shipping Fee: 19.870094765497793\n",
      "Brand: P, Shipping Fee: 5.451074158473629\n",
      "Brand: Q, Shipping Fee: 14.82771141248183\n",
      "Brand: R, Shipping Fee: 13.022632381554157\n",
      "Brand: S, Shipping Fee: 16.49236953598122\n",
      "Brand: T, Shipping Fee: 13.9252814059529\n",
      "Brand: U, Shipping Fee: 15.553057739208118\n",
      "Brand: V, Shipping Fee: 12.318006808965496\n",
      "Brand: W, Shipping Fee: 10.73148837282212\n",
      "Brand: X, Shipping Fee: 11.157349147420074\n",
      "Brand: Y, Shipping Fee: 13.294582434281397\n",
      "Brand: Z, Shipping Fee: 19.898111795935264\n"
     ]
    }
   ],
   "source": [
    "brands = [chr(i) for i in range(65, 91)]  # A to Z\n",
    "products = []\n",
    "for i in range(100):\n",
    "    brand = random.choice(brands)\n",
    "    product = {\n",
    "        'product_code': f\"PROD{random.randint(1000, 9999)}-{random.choice(['RED', 'BLK', 'WHT'])}\",\n",
    "        'product_name': ''.join(random.choices(string.ascii_letters, k=10)),\n",
    "        'category': random.choice(['Top', 'Pants', 'Accessories']),\n",
    "        'color': random.choice(['Red', 'Black', 'White']),\n",
    "        'brand_id': brand,\n",
    "        'product_option': random.choice(['Model A', 'Model B', 'Model C']),\n",
    "        'size': random.choice(['S', 'M', 'L', 'XL']),\n",
    "        'price': random.uniform(10, 500)\n",
    "    }\n",
    "    products.append(product)\n",
    "\n",
    "# 브랜드별 배송비 설정\n",
    "shipping_fees = {brand: random.uniform(5, 20) for brand in brands}\n",
    "\n",
    "# 결과 확인\n",
    "for product in products[:5]:\n",
    "    print(product)\n",
    "for brand, fee in shipping_fees.items():\n",
    "    print(f\"Brand: {brand}, Shipping Fee: {fee}\")\n"
   ]
  },
  {
   "cell_type": "markdown",
   "id": "c43ae9f1-d3e3-4482-81a9-1753ea32c577",
   "metadata": {},
   "source": [
    "## 3.주문정보 1000개 생성"
   ]
  },
  {
   "cell_type": "code",
   "execution_count": 8,
   "id": "24634faa-636e-4b04-8a35-7802f3848308",
   "metadata": {},
   "outputs": [
    {
     "name": "stdout",
     "output_type": "stream",
     "text": [
      "{'order_id': 'ORD698946', 'user_id': 'user_13', 'order_date': '2024-03-30 00:00:00', 'shipping_address': 'SXkaSm kDGY5Aoj1Pusq', 'order_status': '배송완료', 'order_amount': 291.593198722489, 'discount_amount': 82.23330327989875, 'shipping_fee': 7.146270548473791}\n",
      "{'order_id': 'ORD859537', 'user_id': 'user_54', 'order_date': '2024-05-11 00:00:00', 'shipping_address': 'OOmjSWVngH3IyaaAsYs3', 'order_status': '배송중', 'order_amount': 624.8613378655538, 'discount_amount': 12.999693356018426, 'shipping_fee': 12.177915435297486}\n",
      "{'order_id': 'ORD672372', 'user_id': 'user_79', 'order_date': '2024-02-12 00:00:00', 'shipping_address': '3AqdMlcpZIHL3u8QZKjs', 'order_status': '배송중', 'order_amount': 449.9166076241878, 'discount_amount': 89.65247895505513, 'shipping_fee': 15.563329499486105}\n",
      "{'order_id': 'ORD445076', 'user_id': 'user_15', 'order_date': '2024-03-27 00:00:00', 'shipping_address': 'kjxMFvMaTaAmNe0Fjr8W', 'order_status': '배송중', 'order_amount': 722.3318855395447, 'discount_amount': 44.96551633606004, 'shipping_fee': 10.750096215324021}\n",
      "{'order_id': 'ORD471363', 'user_id': 'user_50', 'order_date': '2024-01-11 00:00:00', 'shipping_address': 'Vo9ZGeOZlYyWN26OOE51', 'order_status': '배송완료', 'order_amount': 313.88880182143566, 'discount_amount': 60.93043907579767, 'shipping_fee': 16.859197647925583}\n"
     ]
    }
   ],
   "source": [
    "from datetime import datetime, timedelta\n",
    "\n",
    "order_status_options = ['결제전', '결제후', '배송중', '배송완료']\n",
    "orders = []\n",
    "\n",
    "start_date = datetime(2024, 1, 1)\n",
    "end_date = datetime.now()\n",
    "date_range = (end_date - start_date).days\n",
    "\n",
    "for _ in range(1000):\n",
    "    order_date = start_date + timedelta(days=random.randint(0, date_range))\n",
    "    order = {\n",
    "        'order_id': f\"ORD{random.randint(100000, 999999)}\",\n",
    "        'user_id': random.choice(list(user_ids)),\n",
    "        'order_date': order_date.strftime('%Y-%m-%d %H:%M:%S'),\n",
    "        'shipping_address': ''.join(random.choices(string.ascii_letters + string.digits + ' ', k=20)),\n",
    "        'order_status': random.choice(order_status_options),\n",
    "        'order_amount': random.uniform(20, 1000),\n",
    "        'discount_amount': random.uniform(0, 100),\n",
    "        'shipping_fee': random.uniform(5, 20)\n",
    "    }\n",
    "    orders.append(order)\n",
    "\n",
    "# 결과 확인\n",
    "for order in orders[:5]:\n",
    "    print(order)\n"
   ]
  },
  {
   "cell_type": "markdown",
   "id": "cd31d87c-e0f5-4f7f-9036-75cdfcb32a4e",
   "metadata": {},
   "source": [
    "## 4. 회원 활동 로그 파일 로그 테이블에 저장"
   ]
  },
  {
   "cell_type": "code",
   "execution_count": 18,
   "id": "dc3f4ed6-e51e-4454-a091-642202888e2a",
   "metadata": {},
   "outputs": [],
   "source": [
    "import json\n",
    "import mysql.connector\n",
    "from mysql.connector import errorcode\n",
    "\n",
    "# MySQL 데이터베이스 연결 설정\n",
    "config = {\n",
    "    'user': 'root',\n",
    "    'password': '0000',\n",
    "    'host': '127.0.0.1',\n",
    "    'database': 'bucket_store'\n",
    "}"
   ]
  },
  {
   "cell_type": "code",
   "execution_count": 20,
   "id": "dbe9b492-9103-4d6b-baca-f310b079b89d",
   "metadata": {},
   "outputs": [
    {
     "name": "stdout",
     "output_type": "stream",
     "text": [
      "테이블이 성공적으로 생성되었습니다.\n"
     ]
    }
   ],
   "source": [
    "import mysql.connector\n",
    "from mysql.connector import errorcode\n",
    "\n",
    "# MySQL 데이터베이스 연결 설정\n",
    "config = {\n",
    "    'user': 'root',\n",
    "    'password': '0000',\n",
    "    'host': '127.0.0.1',\n",
    "    'database': 'bucket_store',\n",
    "    'port': 3306\n",
    "}\n",
    "\n",
    "try:\n",
    "    # MySQL 데이터베이스 연결\n",
    "    cnx = mysql.connector.connect(**config)\n",
    "    cursor = cnx.cursor()\n",
    "\n",
    "    # 테이블 생성 쿼리 실행\n",
    "    create_table_query = \"\"\"\n",
    "    CREATE TABLE IF NOT EXISTS PageViewLog (\n",
    "        id INT AUTO_INCREMENT PRIMARY KEY,\n",
    "        access_timestamp DATETIME,\n",
    "        user_id INT,\n",
    "        page VARCHAR(255)\n",
    "    )\n",
    "    \"\"\"\n",
    "    cursor.execute(create_table_query)\n",
    "    print(\"테이블이 성공적으로 생성되었습니다.\")\n",
    "\n",
    "    cursor.close()\n",
    "    cnx.close()\n",
    "\n",
    "except mysql.connector.Error as err:\n",
    "    if err.errno == errorcode.ER_ACCESS_DENIED_ERROR:\n",
    "        print(\"사용자 이름 또는 비밀번호가 잘못되었습니다.\")\n",
    "    elif err.errno == errorcode.ER_BAD_DB_ERROR:\n",
    "        print(\"데이터베이스가 존재하지 않습니다.\")\n",
    "    else:\n",
    "        print(err)\n"
   ]
  },
  {
   "cell_type": "code",
   "execution_count": 22,
   "id": "e09f9330-bf39-477e-ad87-5ba8dc100621",
   "metadata": {},
   "outputs": [
    {
     "name": "stdout",
     "output_type": "stream",
     "text": [
      "1366 (HY000): Incorrect integer value: 'user_90' for column 'user_id' at row 1\n"
     ]
    }
   ],
   "source": [
    "# JSON 데이터를 PageViewLog 테이블에 삽입\n",
    "    for log in activity_logs:\n",
    "        add_log = (\"INSERT INTO PageViewLog \"\n",
    "                   \"(access_timestamp, user_id, page) \"\n",
    "                   \"VALUES (%s, %s, %s)\")\n",
    "        data_log = (log['access_timestamp'], log['user_id'], log['page'])\n",
    "        cursor.execute(add_log, data_log)"
   ]
  },
  {
   "cell_type": "code",
   "execution_count": 24,
   "id": "9c25c460-c8da-4281-9fdc-0ab5e536a8c5",
   "metadata": {},
   "outputs": [
    {
     "name": "stdout",
     "output_type": "stream",
     "text": [
      "로그 데이터가 성공적으로 삽입되었습니다.\n"
     ]
    }
   ],
   "source": [
    "try:\n",
    "    # MySQL 데이터베이스 연결\n",
    "    cnx = mysql.connector.connect(**config)\n",
    "    cursor = cnx.cursor()\n",
    "\n",
    "    # JSON 데이터를 PageViewLog 테이블에 삽입\n",
    "    for log in activity_logs:\n",
    "        add_log = (\"INSERT INTO PageViewLog \"\n",
    "                   \"(access_timestamp, user_id, page) \"\n",
    "                   \"VALUES (%s, %s, %s)\")\n",
    "        data_log = (log['access_timestamp'], log['user_id'], log['page'])\n",
    "        cursor.execute(add_log, data_log)\n",
    "\n",
    "    # 변경사항 커밋\n",
    "    cnx.commit()\n",
    "\n",
    "    print(\"로그 데이터가 성공적으로 삽입되었습니다.\")\n",
    "\n",
    "except mysql.connector.Error as err:\n",
    "    if err.errno == errorcode.ER_ACCESS_DENIED_ERROR:\n",
    "        print(\"사용자 이름 또는 비밀번호가 잘못되었습니다.\")\n",
    "    elif err.errno == errorcode.ER_BAD_DB_ERROR:\n",
    "        print(\"데이터베이스가 존재하지 않습니다.\")\n",
    "    else:\n",
    "        print(err)\n",
    "\n",
    "finally:\n",
    "    # 연결 및 커서 닫기\n",
    "    if 'cursor' in locals() and cursor is not None:\n",
    "        cursor.close()\n",
    "    if 'cnx' in locals() and cnx is not None:\n",
    "        cnx.close()\n"
   ]
  },
  {
   "cell_type": "markdown",
   "id": "0541f567-2af0-43e7-8044-8235a6bf509d",
   "metadata": {},
   "source": [
    "## 회원 정보 삽입"
   ]
  },
  {
   "cell_type": "code",
   "execution_count": 35,
   "id": "b83ffc04-c366-4fe4-ac7c-36a839c816c5",
   "metadata": {},
   "outputs": [
    {
     "name": "stdout",
     "output_type": "stream",
     "text": [
      "회원 정보가 성공적으로 삽입되었습니다.\n"
     ]
    }
   ],
   "source": [
    "import json\n",
    "import random\n",
    "import string\n",
    "import mysql.connector\n",
    "from mysql.connector import Error, errorcode\n",
    "\n",
    "# MySQL 데이터베이스 연결 설정\n",
    "config = {\n",
    "    'user': 'root',\n",
    "    'password': '0000',\n",
    "    'host': '127.0.0.1',\n",
    "    'database': 'bucket_store',\n",
    "    'port': 3306\n",
    "}\n",
    "\n",
    "\n",
    "\n",
    "try:\n",
    "    # MySQL 데이터베이스 연결\n",
    "    cnx = mysql.connector.connect(**config)\n",
    "    cursor = cnx.cursor()\n",
    "\n",
    "    # 회원 정보를 User 테이블에 삽입\n",
    "    for user in users:\n",
    "        add_user = (\"INSERT INTO product_user \"\n",
    "                    \"(user_id, username, password, email, phone, address) \"\n",
    "                    \"VALUES (%s, %s, %s, %s, %s, %s)\")\n",
    "        data_user = (user['user_id'], user['username'], user['password'], user['email'], user['phone'], user['address'])\n",
    "        cursor.execute(add_user, data_user)\n",
    "\n",
    "    # 변경사항 커밋\n",
    "    cnx.commit()\n",
    "\n",
    "    print(\"회원 정보가 성공적으로 삽입되었습니다.\")\n",
    "\n",
    "except mysql.connector.Error as err:\n",
    "    if err.errno == errorcode.ER_ACCESS_DENIED_ERROR:\n",
    "        print(\"사용자 이름 또는 비밀번호가 잘못되었습니다.\")\n",
    "    elif err.errno == errorcode.ER_BAD_DB_ERROR:\n",
    "        print(\"데이터베이스가 존재하지 않습니다.\")\n",
    "    else:\n",
    "        print(err)\n",
    "\n",
    "finally:\n",
    "    # 연결 및 커서 닫기\n",
    "    if 'cursor' in locals() and cursor is not None:\n",
    "        cursor.close()\n",
    "    if 'cnx' in locals() and cnx is not None:\n",
    "        cnx.close()\n"
   ]
  },
  {
   "cell_type": "code",
   "execution_count": 42,
   "id": "c53c646a-6458-4a0b-b0f8-86e43f03caee",
   "metadata": {},
   "outputs": [
    {
     "name": "stdout",
     "output_type": "stream",
     "text": [
      "상품 정보가 성공적으로 삽입되었습니다.\n"
     ]
    }
   ],
   "source": [
    "# 이미 생성된 products 리스트를 이용하여 상품 정보를 MySQL에 삽입하는 코드\n",
    "\n",
    "try:\n",
    "    # MySQL 데이터베이스 연결\n",
    "    cnx = mysql.connector.connect(**config)\n",
    "    cursor = cnx.cursor()\n",
    "\n",
    "    # 상품 정보를 Product 테이블에 삽입\n",
    "    for product in products:\n",
    "        add_product = (\"INSERT INTO Product \"\n",
    "                       \"(product_code, product_name, category, color, brand_id, product_option, size, price) \"\n",
    "                       \"VALUES (%s, %s, %s, %s, %s, %s, %s, %s)\")\n",
    "        data_product = (product['product_code'], product['product_name'], product['category'], product['color'],\n",
    "                        product['brand_id'], product['product_option'], product['size'], product['price'])\n",
    "        cursor.execute(add_product, data_product)\n",
    "\n",
    "    # 변경사항 커밋\n",
    "    cnx.commit()\n",
    "\n",
    "    print(\"상품 정보가 성공적으로 삽입되었습니다.\")\n",
    "\n",
    "except mysql.connector.Error as err:\n",
    "    if err.errno == errorcode.ER_ACCESS_DENIED_ERROR:\n",
    "        print(\"사용자 이름 또는 비밀번호가 잘못되었습니다.\")\n",
    "    elif err.errno == errorcode.ER_BAD_DB_ERROR:\n",
    "        print(\"데이터베이스가 존재하지 않습니다.\")\n",
    "    else:\n",
    "        print(err)\n",
    "\n",
    "finally:\n",
    "    # 연결 및 커서 닫기\n",
    "    if 'cursor' in locals() and cursor is not None:\n",
    "        cursor.close()\n",
    "    if 'cnx' in locals() and cnx is not None:\n",
    "        cnx.close()\n"
   ]
  },
  {
   "cell_type": "code",
   "execution_count": 36,
   "id": "fdd2ebbf-01f0-4279-aad5-3ea48e025393",
   "metadata": {},
   "outputs": [
    {
     "name": "stdout",
     "output_type": "stream",
     "text": [
      "주문 정보가 성공적으로 삽입되었습니다.\n"
     ]
    }
   ],
   "source": [
    "# 이미 생성된 orders 리스트를 이용하여 주문 정보를 MySQL에 삽입하는 코드\n",
    "\n",
    "try:\n",
    "    # MySQL 데이터베이스 연결\n",
    "    cnx = mysql.connector.connect(**config)\n",
    "    cursor = cnx.cursor()\n",
    "\n",
    "    # 주문 정보를 Order 테이블에 삽입\n",
    "    for order in orders:\n",
    "        add_order = (\"INSERT INTO `Order` \"\n",
    "                     \"(order_id, user_id, order_date, shipping_address, order_status, order_amount, \"\n",
    "                     \"discount_amount, shipping_fee) \"\n",
    "                     \"VALUES (%s, %s, %s, %s, %s, %s, %s, %s)\")\n",
    "        data_order = (order['order_id'], order['user_id'], order['order_date'], order['shipping_address'],\n",
    "                      order['order_status'], order['order_amount'], order['discount_amount'], order['shipping_fee'])\n",
    "        cursor.execute(add_order, data_order)\n",
    "\n",
    "    # 변경사항 커밋\n",
    "    cnx.commit()\n",
    "\n",
    "    print(\"주문 정보가 성공적으로 삽입되었습니다.\")\n",
    "\n",
    "except mysql.connector.Error as err:\n",
    "    if err.errno == errorcode.ER_ACCESS_DENIED_ERROR:\n",
    "        print(\"사용자 이름 또는 비밀번호가 잘못되었습니다.\")\n",
    "    elif err.errno == errorcode.ER_BAD_DB_ERROR:\n",
    "        print(\"데이터베이스가 존재하지 않습니다.\")\n",
    "    else:\n",
    "        print(err)\n",
    "\n",
    "finally:\n",
    "    # 연결 및 커서 닫기\n",
    "    if 'cursor' in locals() and cursor is not None:\n",
    "        cursor.close()\n",
    "    if 'cnx' in locals() and cnx is not None:\n",
    "        cnx.close()\n"
   ]
  },
  {
   "cell_type": "code",
   "execution_count": 41,
   "id": "6f903b44-fcd6-41bf-8119-80c338528c1d",
   "metadata": {},
   "outputs": [
    {
     "name": "stdout",
     "output_type": "stream",
     "text": [
      "브랜드 정보가 성공적으로 삽입되었습니다.\n"
     ]
    }
   ],
   "source": [
    "# 브랜드별 배송비 설정\n",
    "shipping_fees = {brand: random.uniform(5, 20) for brand in brands}\n",
    "\n",
    "# 브랜드 정보 추출 및 중복 제거\n",
    "unique_brands = list(set([product['brand_id'] for product in products]))\n",
    "\n",
    "# 삽입할 브랜드 데이터\n",
    "brands_data = [(brand, f\"Brand {brand}\", shipping_fees[brand]) for brand in unique_brands]\n",
    "\n",
    "# SQL 쿼리\n",
    "insert_brand_sql = \"INSERT INTO Brand (brand_id, brand_name, shipping_fee) VALUES (%s, %s, %s)\"\n",
    "\n",
    "# 데이터베이스 연결 및 데이터 삽입\n",
    "try:\n",
    "    cnx = mysql.connector.connect(**config)\n",
    "    cursor = cnx.cursor()\n",
    "\n",
    "    # 브랜드 데이터 삽입\n",
    "    cursor.executemany(insert_brand_sql, brands_data)\n",
    "\n",
    "    # 변경사항 커밋\n",
    "    cnx.commit()\n",
    "\n",
    "    cursor.close()\n",
    "    cnx.close()\n",
    "\n",
    "    print(\"브랜드 정보가 성공적으로 삽입되었습니다.\")\n",
    "\n",
    "except mysql.connector.Error as err:\n",
    "    print(f\"MySQL 오류: {err}\")\n",
    "\n",
    "except Exception as e:\n",
    "    print(f\"오류 발생: {e}\")"
   ]
  }
 ],
 "metadata": {
  "kernelspec": {
   "display_name": "Python 3 (ipykernel)",
   "language": "python",
   "name": "python3"
  },
  "language_info": {
   "codemirror_mode": {
    "name": "ipython",
    "version": 3
   },
   "file_extension": ".py",
   "mimetype": "text/x-python",
   "name": "python",
   "nbconvert_exporter": "python",
   "pygments_lexer": "ipython3",
   "version": "3.12.3"
  }
 },
 "nbformat": 4,
 "nbformat_minor": 5
}
